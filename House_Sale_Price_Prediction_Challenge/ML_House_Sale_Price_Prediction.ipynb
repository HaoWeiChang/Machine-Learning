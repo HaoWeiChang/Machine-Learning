{
  "nbformat": 4,
  "nbformat_minor": 0,
  "metadata": {
    "colab": {
      "name": "ML_House-Sale-Price-Prediction(2).ipynb",
      "provenance": [],
      "collapsed_sections": [
        "4Hf0bpJdaJt3"
      ]
    },
    "kernelspec": {
      "name": "python3",
      "display_name": "Python 3"
    },
    "language_info": {
      "name": "python"
    },
    "accelerator": "GPU"
  },
  "cells": [
    {
      "cell_type": "markdown",
      "metadata": {
        "id": "7xKOUT_wlenu"
      },
      "source": [
        "# Import、載入資料"
      ]
    },
    {
      "cell_type": "code",
      "metadata": {
        "id": "CBlCUQP0X8cT"
      },
      "source": [
        "import os\n",
        "import pandas as pd\n",
        "import numpy as np\n",
        "import tensorflow as tf\n",
        "import matplotlib.pyplot as plt\n",
        "import seaborn as sns\n",
        "from keras import layers\n",
        "from tensorflow import keras\n",
        "from keras.callbacks import EarlyStopping\n",
        "from keras.callbacks import ModelCheckpoint\n",
        "from sklearn.preprocessing import StandardScaler\n",
        "from sklearn.preprocessing import MaxAbsScaler\n",
        "from sklearn.preprocessing import scale\n",
        "from mlxtend.plotting import scatterplotmatrix"
      ],
      "execution_count": null,
      "outputs": []
    },
    {
      "cell_type": "code",
      "metadata": {
        "id": "rCCV-dB2ZCSp"
      },
      "source": [
        "def load_data(housing_csv):\n",
        "  csv_path = os.path.join('/content/drive/MyDrive/MachineLearn/house-regression/',housing_csv)\n",
        "  return pd.read_csv(csv_path)"
      ],
      "execution_count": null,
      "outputs": []
    },
    {
      "cell_type": "code",
      "metadata": {
        "id": "hu6jC0P0ZEJB"
      },
      "source": [
        "train_originData = load_data('train-v3.csv')\n",
        "valid_originData = load_data('valid-v3.csv')\n",
        "test_originData = load_data('test-v3.csv')"
      ],
      "execution_count": null,
      "outputs": []
    },
    {
      "cell_type": "markdown",
      "metadata": {
        "id": "4Hf0bpJdaJt3"
      },
      "source": [
        "#圖像整理(資料分析)"
      ]
    },
    {
      "cell_type": "code",
      "metadata": {
        "colab": {
          "base_uri": "https://localhost:8080/"
        },
        "id": "fjPZuPUIazeS",
        "outputId": "e5b0063d-8b4b-4fe7-a401-ee5c3dca4758"
      },
      "source": [
        "train_originData.head()"
      ],
      "execution_count": null,
      "outputs": [
        {
          "output_type": "execute_result",
          "data": {
            "text/html": [
              "<div>\n",
              "<style scoped>\n",
              "    .dataframe tbody tr th:only-of-type {\n",
              "        vertical-align: middle;\n",
              "    }\n",
              "\n",
              "    .dataframe tbody tr th {\n",
              "        vertical-align: top;\n",
              "    }\n",
              "\n",
              "    .dataframe thead th {\n",
              "        text-align: right;\n",
              "    }\n",
              "</style>\n",
              "<table border=\"1\" class=\"dataframe\">\n",
              "  <thead>\n",
              "    <tr style=\"text-align: right;\">\n",
              "      <th></th>\n",
              "      <th>id</th>\n",
              "      <th>price</th>\n",
              "      <th>sale_yr</th>\n",
              "      <th>sale_month</th>\n",
              "      <th>sale_day</th>\n",
              "      <th>bedrooms</th>\n",
              "      <th>bathrooms</th>\n",
              "      <th>sqft_living</th>\n",
              "      <th>sqft_lot</th>\n",
              "      <th>floors</th>\n",
              "      <th>waterfront</th>\n",
              "      <th>view</th>\n",
              "      <th>condition</th>\n",
              "      <th>grade</th>\n",
              "      <th>sqft_above</th>\n",
              "      <th>sqft_basement</th>\n",
              "      <th>yr_built</th>\n",
              "      <th>yr_renovated</th>\n",
              "      <th>zipcode</th>\n",
              "      <th>lat</th>\n",
              "      <th>long</th>\n",
              "      <th>sqft_living15</th>\n",
              "      <th>sqft_lot15</th>\n",
              "    </tr>\n",
              "  </thead>\n",
              "  <tbody>\n",
              "    <tr>\n",
              "      <th>0</th>\n",
              "      <td>5615100330</td>\n",
              "      <td>200000</td>\n",
              "      <td>2015</td>\n",
              "      <td>3</td>\n",
              "      <td>27</td>\n",
              "      <td>4</td>\n",
              "      <td>2.0</td>\n",
              "      <td>1900</td>\n",
              "      <td>8160</td>\n",
              "      <td>1</td>\n",
              "      <td>0</td>\n",
              "      <td>0</td>\n",
              "      <td>3</td>\n",
              "      <td>7</td>\n",
              "      <td>1900</td>\n",
              "      <td>0</td>\n",
              "      <td>1975</td>\n",
              "      <td>0</td>\n",
              "      <td>98022</td>\n",
              "      <td>47.2114</td>\n",
              "      <td>-121.986</td>\n",
              "      <td>1280</td>\n",
              "      <td>6532</td>\n",
              "    </tr>\n",
              "    <tr>\n",
              "      <th>1</th>\n",
              "      <td>8835900086</td>\n",
              "      <td>350000</td>\n",
              "      <td>2014</td>\n",
              "      <td>9</td>\n",
              "      <td>2</td>\n",
              "      <td>4</td>\n",
              "      <td>3.0</td>\n",
              "      <td>3380</td>\n",
              "      <td>16133</td>\n",
              "      <td>1</td>\n",
              "      <td>0</td>\n",
              "      <td>1</td>\n",
              "      <td>3</td>\n",
              "      <td>8</td>\n",
              "      <td>2330</td>\n",
              "      <td>1050</td>\n",
              "      <td>1959</td>\n",
              "      <td>0</td>\n",
              "      <td>98118</td>\n",
              "      <td>47.5501</td>\n",
              "      <td>-122.261</td>\n",
              "      <td>2500</td>\n",
              "      <td>11100</td>\n",
              "    </tr>\n",
              "    <tr>\n",
              "      <th>2</th>\n",
              "      <td>9510900270</td>\n",
              "      <td>254000</td>\n",
              "      <td>2014</td>\n",
              "      <td>12</td>\n",
              "      <td>11</td>\n",
              "      <td>3</td>\n",
              "      <td>2.0</td>\n",
              "      <td>2070</td>\n",
              "      <td>9000</td>\n",
              "      <td>1</td>\n",
              "      <td>0</td>\n",
              "      <td>0</td>\n",
              "      <td>4</td>\n",
              "      <td>7</td>\n",
              "      <td>1450</td>\n",
              "      <td>620</td>\n",
              "      <td>1969</td>\n",
              "      <td>0</td>\n",
              "      <td>98023</td>\n",
              "      <td>47.3085</td>\n",
              "      <td>-122.376</td>\n",
              "      <td>1630</td>\n",
              "      <td>7885</td>\n",
              "    </tr>\n",
              "    <tr>\n",
              "      <th>3</th>\n",
              "      <td>2621600015</td>\n",
              "      <td>175000</td>\n",
              "      <td>2015</td>\n",
              "      <td>4</td>\n",
              "      <td>30</td>\n",
              "      <td>3</td>\n",
              "      <td>1.0</td>\n",
              "      <td>1150</td>\n",
              "      <td>8924</td>\n",
              "      <td>1</td>\n",
              "      <td>0</td>\n",
              "      <td>0</td>\n",
              "      <td>3</td>\n",
              "      <td>6</td>\n",
              "      <td>1150</td>\n",
              "      <td>0</td>\n",
              "      <td>1943</td>\n",
              "      <td>0</td>\n",
              "      <td>98030</td>\n",
              "      <td>47.3865</td>\n",
              "      <td>-122.217</td>\n",
              "      <td>1492</td>\n",
              "      <td>8924</td>\n",
              "    </tr>\n",
              "    <tr>\n",
              "      <th>4</th>\n",
              "      <td>8078350090</td>\n",
              "      <td>619000</td>\n",
              "      <td>2015</td>\n",
              "      <td>3</td>\n",
              "      <td>31</td>\n",
              "      <td>3</td>\n",
              "      <td>2.5</td>\n",
              "      <td>2040</td>\n",
              "      <td>7503</td>\n",
              "      <td>2</td>\n",
              "      <td>0</td>\n",
              "      <td>0</td>\n",
              "      <td>3</td>\n",
              "      <td>8</td>\n",
              "      <td>2040</td>\n",
              "      <td>0</td>\n",
              "      <td>1987</td>\n",
              "      <td>0</td>\n",
              "      <td>98029</td>\n",
              "      <td>47.5718</td>\n",
              "      <td>-122.021</td>\n",
              "      <td>2170</td>\n",
              "      <td>7503</td>\n",
              "    </tr>\n",
              "  </tbody>\n",
              "</table>\n",
              "</div>"
            ],
            "text/plain": [
              "           id   price  sale_yr  ...     long  sqft_living15  sqft_lot15\n",
              "0  5615100330  200000     2015  ... -121.986           1280        6532\n",
              "1  8835900086  350000     2014  ... -122.261           2500       11100\n",
              "2  9510900270  254000     2014  ... -122.376           1630        7885\n",
              "3  2621600015  175000     2015  ... -122.217           1492        8924\n",
              "4  8078350090  619000     2015  ... -122.021           2170        7503\n",
              "\n",
              "[5 rows x 23 columns]"
            ]
          },
          "metadata": {},
          "execution_count": 4
        }
      ]
    },
    {
      "cell_type": "code",
      "metadata": {
        "colab": {
          "base_uri": "https://localhost:8080/"
        },
        "id": "3KkzST7aeOQ7",
        "outputId": "2107b376-a031-4d1a-b22c-d9fe24642554"
      },
      "source": [
        "plt.figure(figsize = (8,10))\n",
        "train_originData.corr()[\"price\"].sort_values().drop(\"price\").plot(kind = \"barh\");"
      ],
      "execution_count": null,
      "outputs": [
        {
          "output_type": "display_data",
          "data": {
            "image/png": "[encoded data removed]",
            "text/plain": [
              "<Figure size 576x720 with 1 Axes>"
            ]
          },
          "metadata": {
            "needs_background": "light"
          }
        }
      ]
    },
    {
      "cell_type": "code",
      "metadata": {
        "colab": {
          "base_uri": "https://localhost:8080/"
        },
        "id": "8XUWFVTia5wi",
        "outputId": "d36b9143-bf52-4770-8f27-39ac4e3400d1"
      },
      "source": [
        "plt.hist(train_originData['price'],bins=30)\n",
        "plt.show()"
      ],
      "execution_count": null,
      "outputs": [
        {
          "output_type": "display_data",
          "data": {
            "image/png": "[encoded data removed]",
            "text/plain": [
              "<Figure size 432x288 with 1 Axes>"
            ]
          },
          "metadata": {
            "needs_background": "light"
          }
        }
      ]
    },
    {
      "cell_type": "code",
      "metadata": {
        "colab": {
          "base_uri": "https://localhost:8080/"
        },
        "id": "5wGqeKaya7oC",
        "outputId": "262f553b-9639-45e8-e37f-de8402454a4d"
      },
      "source": [
        "var = 'sqft_living'\n",
        "data = pd.concat([train_originData['price'], train_originData[var]], axis=1)\n",
        "data.plot.scatter(x=var, y='price',xlim=(0,25000), ylim=(0,8500000));"
      ],
      "execution_count": null,
      "outputs": [
        {
          "output_type": "display_data",
          "data": {
            "image/png": "[encoded data removed]",
            "text/plain": [
              "<Figure size 432x288 with 1 Axes>"
            ]
          },
          "metadata": {
            "needs_background": "light"
          }
        }
      ]
    },
    {
      "cell_type": "code",
      "metadata": {
        "colab": {
          "base_uri": "https://localhost:8080/"
        },
        "id": "cVGY4kgta97K",
        "outputId": "94e0c472-f871-45b4-e71a-0492b2221dcd"
      },
      "source": [
        "var = 'zipcode'\n",
        "data = pd.concat([train_originData['price'], train_originData[var]], axis=1)\n",
        "data.plot.scatter(x=var, y='price',xlim=(97990,98210), ylim=(0,8000000));"
      ],
      "execution_count": null,
      "outputs": [
        {
          "output_type": "display_data",
          "data": {
            "image/png": "[encoded data removed]",
            "text/plain": [
              "<Figure size 432x288 with 1 Axes>"
            ]
          },
          "metadata": {
            "needs_background": "light"
          }
        }
      ]
    },
    {
      "cell_type": "code",
      "metadata": {
        "colab": {
          "base_uri": "https://localhost:8080/"
        },
        "id": "bjvQPNnFbGfC",
        "outputId": "994167a5-6de2-4baa-dc1c-456730a25d0d"
      },
      "source": [
        "var = 'long'\n",
        "data = pd.concat([train_originData['lat'], train_originData[var]], axis=1)\n",
        "data.plot.scatter(x=var, y='lat',xlim=(-122.55,-121.28), ylim=(47.1,47.85),alpha = 0.1);"
      ],
      "execution_count": null,
      "outputs": [
        {
          "output_type": "display_data",
          "data": {
            "image/png": "[encoded data removed]",
            "text/plain": [
              "<Figure size 432x288 with 1 Axes>"
            ]
          },
          "metadata": {
            "needs_background": "light"
          }
        }
      ]
    },
    {
      "cell_type": "code",
      "metadata": {
        "colab": {
          "base_uri": "https://localhost:8080/"
        },
        "id": "Jx7To7W1dsfD",
        "outputId": "3f7f840d-a462-4927-bb60-63bea0f8bcc8"
      },
      "source": [
        "sns.boxplot(x = 'sale_month', y = 'price', data = train_originData);"
      ],
      "execution_count": null,
      "outputs": [
        {
          "output_type": "display_data",
          "data": {
            "image/png": "[encoded data removed]",
            "text/plain": [
              "<Figure size 432x288 with 1 Axes>"
            ]
          },
          "metadata": {
            "needs_background": "light"
          }
        }
      ]
    },
    {
      "cell_type": "code",
      "metadata": {
        "colab": {
          "base_uri": "https://localhost:8080/"
        },
        "id": "BePEQq02db2z",
        "outputId": "f3767973-71bd-4848-aec9-f73e3a8a13ac"
      },
      "source": [
        "train_originData.groupby('sale_month')['price'].mean().plot();"
      ],
      "execution_count": null,
      "outputs": [
        {
          "output_type": "display_data",
          "data": {
            "image/png": "[encoded data removed]",
            "text/plain": [
              "<Figure size 432x288 with 1 Axes>"
            ]
          },
          "metadata": {
            "needs_background": "light"
          }
        }
      ]
    },
    {
      "cell_type": "code",
      "metadata": {
        "id": "8R93rfaPepF_"
      },
      "source": [
        "#cols = ['sale_yr','sale_month','sale_day','bedrooms','bathrooms','sqft_living','sqft_lot','floors','waterfront','view','condition','grade','sqft_above','sqft_basement','yr_built','yr_renovated','zipcode','lat','long','sqft_living15','sqft_lot15','price']\n",
        "#scatterplotmatrix(train_originData[cols].values.astype(float), figsize=(50,50), names=cols, alpha=0.5)\n",
        "#plt.tight_layout()\n",
        "#plt.show()"
      ],
      "execution_count": null,
      "outputs": []
    },
    {
      "cell_type": "markdown",
      "metadata": {
        "id": "kaYssvQdawe6"
      },
      "source": [
        "# 資料預處理"
      ]
    },
    {
      "cell_type": "code",
      "metadata": {
        "id": "2bgvmND3vdt4"
      },
      "source": [
        "train_Data = train_originData\n",
        "valid_Data = valid_originData\n",
        "test_Data = test_originData"
      ],
      "execution_count": null,
      "outputs": []
    },
    {
      "cell_type": "code",
      "metadata": {
        "colab": {
          "base_uri": "https://localhost:8080/",
          "height": 224
        },
        "id": "b1L8mrcNYFQA",
        "outputId": "9d615ab4-b436-46bb-f607-4546c7005cd8"
      },
      "source": [
        "train_originData.head(5)"
      ],
      "execution_count": null,
      "outputs": [
        {
          "output_type": "execute_result",
          "data": {
            "text/html": [
              "<div>\n",
              "<style scoped>\n",
              "    .dataframe tbody tr th:only-of-type {\n",
              "        vertical-align: middle;\n",
              "    }\n",
              "\n",
              "    .dataframe tbody tr th {\n",
              "        vertical-align: top;\n",
              "    }\n",
              "\n",
              "    .dataframe thead th {\n",
              "        text-align: right;\n",
              "    }\n",
              "</style>\n",
              "<table border=\"1\" class=\"dataframe\">\n",
              "  <thead>\n",
              "    <tr style=\"text-align: right;\">\n",
              "      <th></th>\n",
              "      <th>id</th>\n",
              "      <th>price</th>\n",
              "      <th>sale_yr</th>\n",
              "      <th>sale_month</th>\n",
              "      <th>sale_day</th>\n",
              "      <th>bedrooms</th>\n",
              "      <th>bathrooms</th>\n",
              "      <th>sqft_living</th>\n",
              "      <th>sqft_lot</th>\n",
              "      <th>floors</th>\n",
              "      <th>waterfront</th>\n",
              "      <th>view</th>\n",
              "      <th>condition</th>\n",
              "      <th>grade</th>\n",
              "      <th>sqft_above</th>\n",
              "      <th>sqft_basement</th>\n",
              "      <th>yr_built</th>\n",
              "      <th>yr_renovated</th>\n",
              "      <th>zipcode</th>\n",
              "      <th>lat</th>\n",
              "      <th>long</th>\n",
              "      <th>sqft_living15</th>\n",
              "      <th>sqft_lot15</th>\n",
              "    </tr>\n",
              "  </thead>\n",
              "  <tbody>\n",
              "    <tr>\n",
              "      <th>0</th>\n",
              "      <td>5615100330</td>\n",
              "      <td>200000</td>\n",
              "      <td>2015</td>\n",
              "      <td>3</td>\n",
              "      <td>27</td>\n",
              "      <td>4</td>\n",
              "      <td>2.0</td>\n",
              "      <td>1900</td>\n",
              "      <td>8160</td>\n",
              "      <td>1</td>\n",
              "      <td>0</td>\n",
              "      <td>0</td>\n",
              "      <td>3</td>\n",
              "      <td>7</td>\n",
              "      <td>1900</td>\n",
              "      <td>0</td>\n",
              "      <td>1975</td>\n",
              "      <td>0</td>\n",
              "      <td>98022</td>\n",
              "      <td>47.2114</td>\n",
              "      <td>-121.986</td>\n",
              "      <td>1280</td>\n",
              "      <td>6532</td>\n",
              "    </tr>\n",
              "    <tr>\n",
              "      <th>1</th>\n",
              "      <td>8835900086</td>\n",
              "      <td>350000</td>\n",
              "      <td>2014</td>\n",
              "      <td>9</td>\n",
              "      <td>2</td>\n",
              "      <td>4</td>\n",
              "      <td>3.0</td>\n",
              "      <td>3380</td>\n",
              "      <td>16133</td>\n",
              "      <td>1</td>\n",
              "      <td>0</td>\n",
              "      <td>1</td>\n",
              "      <td>3</td>\n",
              "      <td>8</td>\n",
              "      <td>2330</td>\n",
              "      <td>1050</td>\n",
              "      <td>1959</td>\n",
              "      <td>0</td>\n",
              "      <td>98118</td>\n",
              "      <td>47.5501</td>\n",
              "      <td>-122.261</td>\n",
              "      <td>2500</td>\n",
              "      <td>11100</td>\n",
              "    </tr>\n",
              "    <tr>\n",
              "      <th>2</th>\n",
              "      <td>9510900270</td>\n",
              "      <td>254000</td>\n",
              "      <td>2014</td>\n",
              "      <td>12</td>\n",
              "      <td>11</td>\n",
              "      <td>3</td>\n",
              "      <td>2.0</td>\n",
              "      <td>2070</td>\n",
              "      <td>9000</td>\n",
              "      <td>1</td>\n",
              "      <td>0</td>\n",
              "      <td>0</td>\n",
              "      <td>4</td>\n",
              "      <td>7</td>\n",
              "      <td>1450</td>\n",
              "      <td>620</td>\n",
              "      <td>1969</td>\n",
              "      <td>0</td>\n",
              "      <td>98023</td>\n",
              "      <td>47.3085</td>\n",
              "      <td>-122.376</td>\n",
              "      <td>1630</td>\n",
              "      <td>7885</td>\n",
              "    </tr>\n",
              "    <tr>\n",
              "      <th>3</th>\n",
              "      <td>2621600015</td>\n",
              "      <td>175000</td>\n",
              "      <td>2015</td>\n",
              "      <td>4</td>\n",
              "      <td>30</td>\n",
              "      <td>3</td>\n",
              "      <td>1.0</td>\n",
              "      <td>1150</td>\n",
              "      <td>8924</td>\n",
              "      <td>1</td>\n",
              "      <td>0</td>\n",
              "      <td>0</td>\n",
              "      <td>3</td>\n",
              "      <td>6</td>\n",
              "      <td>1150</td>\n",
              "      <td>0</td>\n",
              "      <td>1943</td>\n",
              "      <td>0</td>\n",
              "      <td>98030</td>\n",
              "      <td>47.3865</td>\n",
              "      <td>-122.217</td>\n",
              "      <td>1492</td>\n",
              "      <td>8924</td>\n",
              "    </tr>\n",
              "    <tr>\n",
              "      <th>4</th>\n",
              "      <td>8078350090</td>\n",
              "      <td>619000</td>\n",
              "      <td>2015</td>\n",
              "      <td>3</td>\n",
              "      <td>31</td>\n",
              "      <td>3</td>\n",
              "      <td>2.5</td>\n",
              "      <td>2040</td>\n",
              "      <td>7503</td>\n",
              "      <td>2</td>\n",
              "      <td>0</td>\n",
              "      <td>0</td>\n",
              "      <td>3</td>\n",
              "      <td>8</td>\n",
              "      <td>2040</td>\n",
              "      <td>0</td>\n",
              "      <td>1987</td>\n",
              "      <td>0</td>\n",
              "      <td>98029</td>\n",
              "      <td>47.5718</td>\n",
              "      <td>-122.021</td>\n",
              "      <td>2170</td>\n",
              "      <td>7503</td>\n",
              "    </tr>\n",
              "  </tbody>\n",
              "</table>\n",
              "</div>"
            ],
            "text/plain": [
              "           id   price  sale_yr  ...     long  sqft_living15  sqft_lot15\n",
              "0  5615100330  200000     2015  ... -121.986           1280        6532\n",
              "1  8835900086  350000     2014  ... -122.261           2500       11100\n",
              "2  9510900270  254000     2014  ... -122.376           1630        7885\n",
              "3  2621600015  175000     2015  ... -122.217           1492        8924\n",
              "4  8078350090  619000     2015  ... -122.021           2170        7503\n",
              "\n",
              "[5 rows x 23 columns]"
            ]
          },
          "metadata": {},
          "execution_count": 14
        }
      ]
    },
    {
      "cell_type": "code",
      "metadata": {
        "id": "V-L8Lr7bvh5Y"
      },
      "source": [
        "train_Data.loc[train_Data['yr_renovated'] >0 ,'yr_built'] = train_Data['yr_renovated']\n",
        "valid_Data.loc[valid_Data['yr_renovated'] >0 ,'yr_built'] = valid_Data['yr_renovated']\n",
        "test_Data.loc[test_Data['yr_renovated'] >0 ,'yr_built'] = test_Data['yr_renovated']"
      ],
      "execution_count": null,
      "outputs": []
    },
    {
      "cell_type": "code",
      "metadata": {
        "id": "GeP2ulBIs49V"
      },
      "source": [
        "train_Data = train_Data[train_Data['bedrooms'] < 11]\n",
        "train_Data = train_Data[train_Data['sqft_living'] < 12000]\n",
        "train_Data = train_Data[train_Data['sqft_lot15'] < 800000]"
      ],
      "execution_count": null,
      "outputs": []
    },
    {
      "cell_type": "code",
      "metadata": {
        "id": "IV48kwjdeqv0"
      },
      "source": [
        "#dropData = {'id','sale_yr','sale_month','sale_day','zipcode','view','waterfront','yr_renovated'}\n",
        "dropData = {'id'}"
      ],
      "execution_count": null,
      "outputs": []
    },
    {
      "cell_type": "code",
      "metadata": {
        "id": "X1d7muSkegWr"
      },
      "source": [
        "train_Data = train_originData.drop(dropData,axis=1)\n",
        "valid_Data = valid_originData.drop(dropData,axis=1)\n",
        "test_Data = test_originData.drop(dropData,axis=1)"
      ],
      "execution_count": null,
      "outputs": []
    },
    {
      "cell_type": "code",
      "metadata": {
        "id": "LDUtEB5Vjml1"
      },
      "source": [
        "x_train = train_Data.drop(['price'],axis=1)\n",
        "y_train = train_Data['price'].values\n",
        "x_valid = valid_Data.drop(['price'],axis=1)\n",
        "y_valid = valid_Data['price'].values\n",
        "x_test = test_Data"
      ],
      "execution_count": null,
      "outputs": []
    },
    {
      "cell_type": "code",
      "metadata": {
        "colab": {
          "base_uri": "https://localhost:8080/"
        },
        "id": "VJpdLeBGysTy",
        "outputId": "6a6ce61b-614b-4c5e-fa12-9c4947ff8152"
      },
      "source": [
        "train_Data.corr()[\"price\"].sort_values(ascending=False)"
      ],
      "execution_count": null,
      "outputs": [
        {
          "output_type": "execute_result",
          "data": {
            "text/plain": [
              "price            1.000000\n",
              "sqft_living      0.702100\n",
              "grade            0.672523\n",
              "sqft_above       0.601167\n",
              "sqft_living15    0.586408\n",
              "bathrooms        0.521330\n",
              "view             0.404273\n",
              "sqft_basement    0.337082\n",
              "lat              0.309688\n",
              "bedrooms         0.301817\n",
              "waterfront       0.266653\n",
              "floors           0.241054\n",
              "yr_renovated     0.129219\n",
              "yr_built         0.108181\n",
              "sqft_lot         0.101519\n",
              "sqft_lot15       0.078428\n",
              "condition        0.040836\n",
              "long             0.020066\n",
              "sale_yr          0.007752\n",
              "sale_day        -0.008888\n",
              "sale_month      -0.024029\n",
              "zipcode         -0.052930\n",
              "Name: price, dtype: float64"
            ]
          },
          "metadata": {},
          "execution_count": 20
        }
      ]
    },
    {
      "cell_type": "code",
      "metadata": {
        "id": "BDxuEdEVtmw5"
      },
      "source": [
        "#mean = x_train.mean()\n",
        "#std = x_train.std()\n",
        "#X_train = (x_train-mean)/std\n",
        "#X_valid = (x_valid-mean)/std\n",
        "#X_test = (x_test-mean)/std"
      ],
      "execution_count": null,
      "outputs": []
    },
    {
      "cell_type": "code",
      "metadata": {
        "id": "MrGkyfvJlDAe"
      },
      "source": [
        "scaler = StandardScaler().fit(x_train)\n",
        "X_train = scaler.transform(x_train)\n",
        "X_valid = scaler.transform(x_valid)\n",
        "X_test = scaler.transform(x_test)"
      ],
      "execution_count": null,
      "outputs": []
    },
    {
      "cell_type": "markdown",
      "metadata": {
        "id": "YACfrviKm28O"
      },
      "source": [
        "# 建立模型\n",
        "\n"
      ]
    },
    {
      "cell_type": "code",
      "metadata": {
        "id": "A73-WqXWxb2e"
      },
      "source": [
        "filepath=\"./bestModel.h5\"\n",
        "checkpoint = ModelCheckpoint(filepath, monitor='val_loss', verbose=1, save_best_only=True, mode='min', save_weights_only=False)\n",
        "es = EarlyStopping(monitor='val_loss', patience=30, verbose=0, mode='min')"
      ],
      "execution_count": null,
      "outputs": []
    },
    {
      "cell_type": "code",
      "metadata": {
        "colab": {
          "base_uri": "https://localhost:8080/"
        },
        "id": "KrIoHVaeSZiT",
        "outputId": "4a83eb1d-8409-4f96-c3de-b44460a02951"
      },
      "source": [
        "#initialRamdom = keras.initializers.random_normal(mean=0.0,stddev=0.05,seed=52)\n",
        "model = keras.Sequential()\n",
        "model.add(layers.Dense(64,kernel_initializer='normal',activation='relu',input_shape=(X_train.shape[1],)))\n",
        "model.add(layers.Dense(48,kernel_initializer='normal',activation='relu'))\n",
        "model.add(layers.Dense(32,kernel_initializer='normal',activation='relu'))\n",
        "model.add(layers.Dense(1,kernel_initializer='normal'))\n",
        "model.summary()"
      ],
      "execution_count": null,
      "outputs": [
        {
          "output_type": "stream",
          "name": "stdout",
          "text": [
            "Model: \"sequential_1\"\n",
            "_________________________________________________________________\n",
            " Layer (type)                Output Shape              Param #   \n",
            "=================================================================\n",
            " dense_4 (Dense)             (None, 64)                1408      \n",
            "                                                                 \n",
            " dense_5 (Dense)             (None, 48)                3120      \n",
            "                                                                 \n",
            " dense_6 (Dense)             (None, 32)                1568      \n",
            "                                                                 \n",
            " dense_7 (Dense)             (None, 1)                 33        \n",
            "                                                                 \n",
            "=================================================================\n",
            "Total params: 6,129\n",
            "Trainable params: 6,129\n",
            "Non-trainable params: 0\n",
            "_________________________________________________________________\n"
          ]
        }
      ]
    },
    {
      "cell_type": "code",
      "metadata": {
        "id": "bR-aoj5Nn1kf"
      },
      "source": [
        "model.compile(optimizer=keras.optimizers.Adam(0.01978),loss='MAE')"
      ],
      "execution_count": null,
      "outputs": []
    },
    {
      "cell_type": "code",
      "metadata": {
        "colab": {
          "base_uri": "https://localhost:8080/"
        },
        "id": "z1IdUVYon_w_",
        "outputId": "97cee0e3-d6a4-42cf-9cce-4da6b65e9d81"
      },
      "source": [
        "history = model.fit(X_train,y_train,validation_data=(X_valid,y_valid),batch_size=64,epochs=1000,callbacks=[es,checkpoint],verbose=0)"
      ],
      "execution_count": null,
      "outputs": [
        {
          "output_type": "stream",
          "name": "stdout",
          "text": [
            "\n",
            "Epoch 00001: val_loss improved from inf to 117890.10156, saving model to ./bestModel.h5\n",
            "\n",
            "Epoch 00002: val_loss improved from 117890.10156 to 107050.78906, saving model to ./bestModel.h5\n",
            "\n",
            "Epoch 00003: val_loss improved from 107050.78906 to 105414.39062, saving model to ./bestModel.h5\n",
            "\n",
            "Epoch 00004: val_loss improved from 105414.39062 to 103631.21875, saving model to ./bestModel.h5\n",
            "\n",
            "Epoch 00005: val_loss improved from 103631.21875 to 102682.75000, saving model to ./bestModel.h5\n",
            "\n",
            "Epoch 00006: val_loss improved from 102682.75000 to 100870.10156, saving model to ./bestModel.h5\n",
            "\n",
            "Epoch 00007: val_loss did not improve from 100870.10156\n",
            "\n",
            "Epoch 00008: val_loss improved from 100870.10156 to 100850.19531, saving model to ./bestModel.h5\n",
            "\n",
            "Epoch 00009: val_loss improved from 100850.19531 to 99375.06250, saving model to ./bestModel.h5\n",
            "\n",
            "Epoch 00010: val_loss improved from 99375.06250 to 99177.55469, saving model to ./bestModel.h5\n",
            "\n",
            "Epoch 00011: val_loss did not improve from 99177.55469\n",
            "\n",
            "Epoch 00012: val_loss did not improve from 99177.55469\n",
            "\n",
            "Epoch 00013: val_loss improved from 99177.55469 to 97284.69531, saving model to ./bestModel.h5\n",
            "\n",
            "Epoch 00014: val_loss did not improve from 97284.69531\n",
            "\n",
            "Epoch 00015: val_loss improved from 97284.69531 to 97182.24219, saving model to ./bestModel.h5\n",
            "\n",
            "Epoch 00016: val_loss did not improve from 97182.24219\n",
            "\n",
            "Epoch 00017: val_loss did not improve from 97182.24219\n",
            "\n",
            "Epoch 00018: val_loss improved from 97182.24219 to 96365.88281, saving model to ./bestModel.h5\n",
            "\n",
            "Epoch 00019: val_loss improved from 96365.88281 to 96336.60938, saving model to ./bestModel.h5\n",
            "\n",
            "Epoch 00020: val_loss did not improve from 96336.60938\n",
            "\n",
            "Epoch 00021: val_loss improved from 96336.60938 to 96072.60938, saving model to ./bestModel.h5\n",
            "\n",
            "Epoch 00022: val_loss improved from 96072.60938 to 95719.20312, saving model to ./bestModel.h5\n",
            "\n",
            "Epoch 00023: val_loss did not improve from 95719.20312\n",
            "\n",
            "Epoch 00024: val_loss improved from 95719.20312 to 94806.20312, saving model to ./bestModel.h5\n",
            "\n",
            "Epoch 00025: val_loss improved from 94806.20312 to 94307.99219, saving model to ./bestModel.h5\n",
            "\n",
            "Epoch 00026: val_loss did not improve from 94307.99219\n",
            "\n",
            "Epoch 00027: val_loss did not improve from 94307.99219\n",
            "\n",
            "Epoch 00028: val_loss did not improve from 94307.99219\n",
            "\n",
            "Epoch 00029: val_loss improved from 94307.99219 to 94142.28906, saving model to ./bestModel.h5\n",
            "\n",
            "Epoch 00030: val_loss did not improve from 94142.28906\n",
            "\n",
            "Epoch 00031: val_loss improved from 94142.28906 to 93612.83594, saving model to ./bestModel.h5\n",
            "\n",
            "Epoch 00032: val_loss improved from 93612.83594 to 93393.70312, saving model to ./bestModel.h5\n",
            "\n",
            "Epoch 00033: val_loss did not improve from 93393.70312\n",
            "\n",
            "Epoch 00034: val_loss did not improve from 93393.70312\n",
            "\n",
            "Epoch 00035: val_loss did not improve from 93393.70312\n",
            "\n",
            "Epoch 00036: val_loss improved from 93393.70312 to 91199.48438, saving model to ./bestModel.h5\n",
            "\n",
            "Epoch 00037: val_loss did not improve from 91199.48438\n",
            "\n",
            "Epoch 00038: val_loss improved from 91199.48438 to 89934.98438, saving model to ./bestModel.h5\n",
            "\n",
            "Epoch 00039: val_loss improved from 89934.98438 to 87171.24219, saving model to ./bestModel.h5\n",
            "\n",
            "Epoch 00040: val_loss improved from 87171.24219 to 85146.65625, saving model to ./bestModel.h5\n",
            "\n",
            "Epoch 00041: val_loss improved from 85146.65625 to 82301.07812, saving model to ./bestModel.h5\n",
            "\n",
            "Epoch 00042: val_loss improved from 82301.07812 to 80397.85156, saving model to ./bestModel.h5\n",
            "\n",
            "Epoch 00043: val_loss improved from 80397.85156 to 77667.23438, saving model to ./bestModel.h5\n",
            "\n",
            "Epoch 00044: val_loss improved from 77667.23438 to 76311.25781, saving model to ./bestModel.h5\n",
            "\n",
            "Epoch 00045: val_loss did not improve from 76311.25781\n",
            "\n",
            "Epoch 00046: val_loss did not improve from 76311.25781\n",
            "\n",
            "Epoch 00047: val_loss improved from 76311.25781 to 74178.35938, saving model to ./bestModel.h5\n",
            "\n",
            "Epoch 00048: val_loss improved from 74178.35938 to 73358.00000, saving model to ./bestModel.h5\n",
            "\n",
            "Epoch 00049: val_loss improved from 73358.00000 to 72568.08594, saving model to ./bestModel.h5\n",
            "\n",
            "Epoch 00050: val_loss did not improve from 72568.08594\n",
            "\n",
            "Epoch 00051: val_loss improved from 72568.08594 to 71686.87500, saving model to ./bestModel.h5\n",
            "\n",
            "Epoch 00052: val_loss improved from 71686.87500 to 71555.03125, saving model to ./bestModel.h5\n",
            "\n",
            "Epoch 00053: val_loss did not improve from 71555.03125\n",
            "\n",
            "Epoch 00054: val_loss did not improve from 71555.03125\n",
            "\n",
            "Epoch 00055: val_loss did not improve from 71555.03125\n",
            "\n",
            "Epoch 00056: val_loss improved from 71555.03125 to 70867.05469, saving model to ./bestModel.h5\n",
            "\n",
            "Epoch 00057: val_loss did not improve from 70867.05469\n",
            "\n",
            "Epoch 00058: val_loss improved from 70867.05469 to 70289.35156, saving model to ./bestModel.h5\n",
            "\n",
            "Epoch 00059: val_loss did not improve from 70289.35156\n",
            "\n",
            "Epoch 00060: val_loss improved from 70289.35156 to 70227.99219, saving model to ./bestModel.h5\n",
            "\n",
            "Epoch 00061: val_loss improved from 70227.99219 to 70213.18750, saving model to ./bestModel.h5\n",
            "\n",
            "Epoch 00062: val_loss improved from 70213.18750 to 69283.64844, saving model to ./bestModel.h5\n",
            "\n",
            "Epoch 00063: val_loss did not improve from 69283.64844\n",
            "\n",
            "Epoch 00064: val_loss did not improve from 69283.64844\n",
            "\n",
            "Epoch 00065: val_loss did not improve from 69283.64844\n",
            "\n",
            "Epoch 00066: val_loss improved from 69283.64844 to 68795.35938, saving model to ./bestModel.h5\n",
            "\n",
            "Epoch 00067: val_loss did not improve from 68795.35938\n",
            "\n",
            "Epoch 00068: val_loss did not improve from 68795.35938\n",
            "\n",
            "Epoch 00069: val_loss did not improve from 68795.35938\n",
            "\n",
            "Epoch 00070: val_loss did not improve from 68795.35938\n",
            "\n",
            "Epoch 00071: val_loss did not improve from 68795.35938\n",
            "\n",
            "Epoch 00072: val_loss improved from 68795.35938 to 67912.26562, saving model to ./bestModel.h5\n",
            "\n",
            "Epoch 00073: val_loss improved from 67912.26562 to 67586.24219, saving model to ./bestModel.h5\n",
            "\n",
            "Epoch 00074: val_loss did not improve from 67586.24219\n",
            "\n",
            "Epoch 00075: val_loss did not improve from 67586.24219\n",
            "\n",
            "Epoch 00076: val_loss improved from 67586.24219 to 67478.66406, saving model to ./bestModel.h5\n",
            "\n",
            "Epoch 00077: val_loss improved from 67478.66406 to 66589.09375, saving model to ./bestModel.h5\n",
            "\n",
            "Epoch 00078: val_loss did not improve from 66589.09375\n",
            "\n",
            "Epoch 00079: val_loss did not improve from 66589.09375\n",
            "\n",
            "Epoch 00080: val_loss did not improve from 66589.09375\n",
            "\n",
            "Epoch 00081: val_loss did not improve from 66589.09375\n",
            "\n",
            "Epoch 00082: val_loss did not improve from 66589.09375\n",
            "\n",
            "Epoch 00083: val_loss did not improve from 66589.09375\n",
            "\n",
            "Epoch 00084: val_loss did not improve from 66589.09375\n",
            "\n",
            "Epoch 00085: val_loss did not improve from 66589.09375\n",
            "\n",
            "Epoch 00086: val_loss did not improve from 66589.09375\n",
            "\n",
            "Epoch 00087: val_loss did not improve from 66589.09375\n",
            "\n",
            "Epoch 00088: val_loss improved from 66589.09375 to 66438.62500, saving model to ./bestModel.h5\n",
            "\n",
            "Epoch 00089: val_loss did not improve from 66438.62500\n",
            "\n",
            "Epoch 00090: val_loss did not improve from 66438.62500\n",
            "\n",
            "Epoch 00091: val_loss did not improve from 66438.62500\n",
            "\n",
            "Epoch 00092: val_loss did not improve from 66438.62500\n",
            "\n",
            "Epoch 00093: val_loss did not improve from 66438.62500\n",
            "\n",
            "Epoch 00094: val_loss did not improve from 66438.62500\n",
            "\n",
            "Epoch 00095: val_loss did not improve from 66438.62500\n",
            "\n",
            "Epoch 00096: val_loss did not improve from 66438.62500\n",
            "\n",
            "Epoch 00097: val_loss did not improve from 66438.62500\n",
            "\n",
            "Epoch 00098: val_loss did not improve from 66438.62500\n",
            "\n",
            "Epoch 00099: val_loss did not improve from 66438.62500\n",
            "\n",
            "Epoch 00100: val_loss did not improve from 66438.62500\n",
            "\n",
            "Epoch 00101: val_loss did not improve from 66438.62500\n",
            "\n",
            "Epoch 00102: val_loss did not improve from 66438.62500\n",
            "\n",
            "Epoch 00103: val_loss did not improve from 66438.62500\n",
            "\n",
            "Epoch 00104: val_loss improved from 66438.62500 to 66320.08594, saving model to ./bestModel.h5\n",
            "\n",
            "Epoch 00105: val_loss did not improve from 66320.08594\n",
            "\n",
            "Epoch 00106: val_loss did not improve from 66320.08594\n",
            "\n",
            "Epoch 00107: val_loss did not improve from 66320.08594\n",
            "\n",
            "Epoch 00108: val_loss did not improve from 66320.08594\n",
            "\n",
            "Epoch 00109: val_loss improved from 66320.08594 to 66081.75781, saving model to ./bestModel.h5\n",
            "\n",
            "Epoch 00110: val_loss did not improve from 66081.75781\n",
            "\n",
            "Epoch 00111: val_loss did not improve from 66081.75781\n",
            "\n",
            "Epoch 00112: val_loss improved from 66081.75781 to 66008.60938, saving model to ./bestModel.h5\n",
            "\n",
            "Epoch 00113: val_loss improved from 66008.60938 to 65917.74219, saving model to ./bestModel.h5\n",
            "\n",
            "Epoch 00114: val_loss did not improve from 65917.74219\n",
            "\n",
            "Epoch 00115: val_loss did not improve from 65917.74219\n",
            "\n",
            "Epoch 00116: val_loss did not improve from 65917.74219\n",
            "\n",
            "Epoch 00117: val_loss did not improve from 65917.74219\n",
            "\n",
            "Epoch 00118: val_loss did not improve from 65917.74219\n",
            "\n",
            "Epoch 00119: val_loss did not improve from 65917.74219\n",
            "\n",
            "Epoch 00120: val_loss did not improve from 65917.74219\n",
            "\n",
            "Epoch 00121: val_loss did not improve from 65917.74219\n",
            "\n",
            "Epoch 00122: val_loss did not improve from 65917.74219\n",
            "\n",
            "Epoch 00123: val_loss did not improve from 65917.74219\n",
            "\n",
            "Epoch 00124: val_loss did not improve from 65917.74219\n",
            "\n",
            "Epoch 00125: val_loss improved from 65917.74219 to 65223.67188, saving model to ./bestModel.h5\n",
            "\n",
            "Epoch 00126: val_loss did not improve from 65223.67188\n",
            "\n",
            "Epoch 00127: val_loss did not improve from 65223.67188\n",
            "\n",
            "Epoch 00128: val_loss did not improve from 65223.67188\n",
            "\n",
            "Epoch 00129: val_loss did not improve from 65223.67188\n",
            "\n",
            "Epoch 00130: val_loss did not improve from 65223.67188\n",
            "\n",
            "Epoch 00131: val_loss did not improve from 65223.67188\n",
            "\n",
            "Epoch 00132: val_loss did not improve from 65223.67188\n",
            "\n",
            "Epoch 00133: val_loss did not improve from 65223.67188\n",
            "\n",
            "Epoch 00134: val_loss did not improve from 65223.67188\n",
            "\n",
            "Epoch 00135: val_loss did not improve from 65223.67188\n",
            "\n",
            "Epoch 00136: val_loss improved from 65223.67188 to 65125.19922, saving model to ./bestModel.h5\n",
            "\n",
            "Epoch 00137: val_loss did not improve from 65125.19922\n",
            "\n",
            "Epoch 00138: val_loss did not improve from 65125.19922\n",
            "\n",
            "Epoch 00139: val_loss did not improve from 65125.19922\n",
            "\n",
            "Epoch 00140: val_loss did not improve from 65125.19922\n",
            "\n",
            "Epoch 00141: val_loss did not improve from 65125.19922\n",
            "\n",
            "Epoch 00142: val_loss did not improve from 65125.19922\n",
            "\n",
            "Epoch 00143: val_loss did not improve from 65125.19922\n",
            "\n",
            "Epoch 00144: val_loss did not improve from 65125.19922\n",
            "\n",
            "Epoch 00145: val_loss did not improve from 65125.19922\n",
            "\n",
            "Epoch 00146: val_loss did not improve from 65125.19922\n",
            "\n",
            "Epoch 00147: val_loss did not improve from 65125.19922\n",
            "\n",
            "Epoch 00148: val_loss did not improve from 65125.19922\n",
            "\n",
            "Epoch 00149: val_loss did not improve from 65125.19922\n",
            "\n",
            "Epoch 00150: val_loss did not improve from 65125.19922\n",
            "\n",
            "Epoch 00151: val_loss did not improve from 65125.19922\n",
            "\n",
            "Epoch 00152: val_loss did not improve from 65125.19922\n",
            "\n",
            "Epoch 00153: val_loss did not improve from 65125.19922\n",
            "\n",
            "Epoch 00154: val_loss did not improve from 65125.19922\n",
            "\n",
            "Epoch 00155: val_loss improved from 65125.19922 to 65098.46094, saving model to ./bestModel.h5\n",
            "\n",
            "Epoch 00156: val_loss did not improve from 65098.46094\n",
            "\n",
            "Epoch 00157: val_loss did not improve from 65098.46094\n",
            "\n",
            "Epoch 00158: val_loss did not improve from 65098.46094\n",
            "\n",
            "Epoch 00159: val_loss did not improve from 65098.46094\n",
            "\n",
            "Epoch 00160: val_loss did not improve from 65098.46094\n",
            "\n",
            "Epoch 00161: val_loss did not improve from 65098.46094\n",
            "\n",
            "Epoch 00162: val_loss improved from 65098.46094 to 64751.96484, saving model to ./bestModel.h5\n",
            "\n",
            "Epoch 00163: val_loss did not improve from 64751.96484\n",
            "\n",
            "Epoch 00164: val_loss did not improve from 64751.96484\n",
            "\n",
            "Epoch 00165: val_loss did not improve from 64751.96484\n",
            "\n",
            "Epoch 00166: val_loss did not improve from 64751.96484\n",
            "\n",
            "Epoch 00167: val_loss did not improve from 64751.96484\n",
            "\n",
            "Epoch 00168: val_loss improved from 64751.96484 to 64697.19531, saving model to ./bestModel.h5\n",
            "\n",
            "Epoch 00169: val_loss did not improve from 64697.19531\n",
            "\n",
            "Epoch 00170: val_loss did not improve from 64697.19531\n",
            "\n",
            "Epoch 00171: val_loss did not improve from 64697.19531\n",
            "\n",
            "Epoch 00172: val_loss did not improve from 64697.19531\n",
            "\n",
            "Epoch 00173: val_loss did not improve from 64697.19531\n",
            "\n",
            "Epoch 00174: val_loss did not improve from 64697.19531\n",
            "\n",
            "Epoch 00175: val_loss did not improve from 64697.19531\n",
            "\n",
            "Epoch 00176: val_loss did not improve from 64697.19531\n",
            "\n",
            "Epoch 00177: val_loss did not improve from 64697.19531\n",
            "\n",
            "Epoch 00178: val_loss did not improve from 64697.19531\n",
            "\n",
            "Epoch 00179: val_loss did not improve from 64697.19531\n",
            "\n",
            "Epoch 00180: val_loss did not improve from 64697.19531\n",
            "\n",
            "Epoch 00181: val_loss did not improve from 64697.19531\n",
            "\n",
            "Epoch 00182: val_loss did not improve from 64697.19531\n",
            "\n",
            "Epoch 00183: val_loss did not improve from 64697.19531\n",
            "\n",
            "Epoch 00184: val_loss did not improve from 64697.19531\n",
            "\n",
            "Epoch 00185: val_loss did not improve from 64697.19531\n",
            "\n",
            "Epoch 00186: val_loss did not improve from 64697.19531\n",
            "\n",
            "Epoch 00187: val_loss improved from 64697.19531 to 64681.12109, saving model to ./bestModel.h5\n",
            "\n",
            "Epoch 00188: val_loss did not improve from 64681.12109\n",
            "\n",
            "Epoch 00189: val_loss did not improve from 64681.12109\n",
            "\n",
            "Epoch 00190: val_loss did not improve from 64681.12109\n",
            "\n",
            "Epoch 00191: val_loss did not improve from 64681.12109\n",
            "\n",
            "Epoch 00192: val_loss did not improve from 64681.12109\n",
            "\n",
            "Epoch 00193: val_loss did not improve from 64681.12109\n",
            "\n",
            "Epoch 00194: val_loss did not improve from 64681.12109\n",
            "\n",
            "Epoch 00195: val_loss did not improve from 64681.12109\n",
            "\n",
            "Epoch 00196: val_loss did not improve from 64681.12109\n",
            "\n",
            "Epoch 00197: val_loss did not improve from 64681.12109\n",
            "\n",
            "Epoch 00198: val_loss did not improve from 64681.12109\n",
            "\n",
            "Epoch 00199: val_loss did not improve from 64681.12109\n",
            "\n",
            "Epoch 00200: val_loss did not improve from 64681.12109\n",
            "\n",
            "Epoch 00201: val_loss did not improve from 64681.12109\n",
            "\n",
            "Epoch 00202: val_loss did not improve from 64681.12109\n",
            "\n",
            "Epoch 00203: val_loss did not improve from 64681.12109\n",
            "\n",
            "Epoch 00204: val_loss improved from 64681.12109 to 64658.55469, saving model to ./bestModel.h5\n",
            "\n",
            "Epoch 00205: val_loss did not improve from 64658.55469\n",
            "\n",
            "Epoch 00206: val_loss did not improve from 64658.55469\n",
            "\n",
            "Epoch 00207: val_loss did not improve from 64658.55469\n",
            "\n",
            "Epoch 00208: val_loss did not improve from 64658.55469\n",
            "\n",
            "Epoch 00209: val_loss did not improve from 64658.55469\n",
            "\n",
            "Epoch 00210: val_loss did not improve from 64658.55469\n",
            "\n",
            "Epoch 00211: val_loss did not improve from 64658.55469\n",
            "\n",
            "Epoch 00212: val_loss did not improve from 64658.55469\n",
            "\n",
            "Epoch 00213: val_loss did not improve from 64658.55469\n",
            "\n",
            "Epoch 00214: val_loss did not improve from 64658.55469\n",
            "\n",
            "Epoch 00215: val_loss did not improve from 64658.55469\n",
            "\n",
            "Epoch 00216: val_loss did not improve from 64658.55469\n",
            "\n",
            "Epoch 00217: val_loss did not improve from 64658.55469\n",
            "\n",
            "Epoch 00218: val_loss did not improve from 64658.55469\n",
            "\n",
            "Epoch 00219: val_loss did not improve from 64658.55469\n",
            "\n",
            "Epoch 00220: val_loss did not improve from 64658.55469\n",
            "\n",
            "Epoch 00221: val_loss did not improve from 64658.55469\n",
            "\n",
            "Epoch 00222: val_loss did not improve from 64658.55469\n",
            "\n",
            "Epoch 00223: val_loss did not improve from 64658.55469\n",
            "\n",
            "Epoch 00224: val_loss did not improve from 64658.55469\n",
            "\n",
            "Epoch 00225: val_loss did not improve from 64658.55469\n",
            "\n",
            "Epoch 00226: val_loss did not improve from 64658.55469\n",
            "\n",
            "Epoch 00227: val_loss did not improve from 64658.55469\n",
            "\n",
            "Epoch 00228: val_loss did not improve from 64658.55469\n",
            "\n",
            "Epoch 00229: val_loss did not improve from 64658.55469\n",
            "\n",
            "Epoch 00230: val_loss did not improve from 64658.55469\n",
            "\n",
            "Epoch 00231: val_loss did not improve from 64658.55469\n",
            "\n",
            "Epoch 00232: val_loss did not improve from 64658.55469\n",
            "\n",
            "Epoch 00233: val_loss did not improve from 64658.55469\n",
            "\n",
            "Epoch 00234: val_loss did not improve from 64658.55469\n"
          ]
        }
      ]
    },
    {
      "cell_type": "code",
      "metadata": {
        "id": "YGdmICzzsKmb",
        "colab": {
          "base_uri": "https://localhost:8080/"
        },
        "outputId": "b12948f0-71a2-468d-b062-a25f8ea6020b"
      },
      "source": [
        "history.history.keys()"
      ],
      "execution_count": null,
      "outputs": [
        {
          "output_type": "execute_result",
          "data": {
            "text/plain": [
              "dict_keys(['loss', 'val_loss'])"
            ]
          },
          "metadata": {},
          "execution_count": 37
        }
      ]
    },
    {
      "cell_type": "code",
      "metadata": {
        "id": "MLf8NI1-rYwQ",
        "colab": {
          "base_uri": "https://localhost:8080/",
          "height": 296
        },
        "outputId": "b7bd16fc-d502-4e29-86f0-b814f7b5d06d"
      },
      "source": [
        "plt.plot(history.history['loss'],label='train')\n",
        "plt.plot(history.history['val_loss'],label='validation')\n",
        "plt.ylabel('loss')\n",
        "plt.xlabel('epochs')\n",
        "plt.legend(loc='upper right')"
      ],
      "execution_count": null,
      "outputs": [
        {
          "output_type": "execute_result",
          "data": {
            "text/plain": [
              "<matplotlib.legend.Legend at 0x7fdfcb94db90>"
            ]
          },
          "metadata": {},
          "execution_count": 38
        },
        {
          "output_type": "display_data",
          "data": {
            "image/png": "[encoded data removed]",
            "text/plain": [
              "<Figure size 432x288 with 1 Axes>"
            ]
          },
          "metadata": {
            "needs_background": "light"
          }
        }
      ]
    },
    {
      "cell_type": "code",
      "metadata": {
        "id": "8TLDZKaayxVP"
      },
      "source": [
        "from keras.models import load_model\n",
        "filepath = \"./bestModel.h5\"\n",
        "model = load_model(filepath)"
      ],
      "execution_count": null,
      "outputs": []
    },
    {
      "cell_type": "code",
      "metadata": {
        "id": "PdHWeappqUrI"
      },
      "source": [
        "final_result=model.predict(X_test)"
      ],
      "execution_count": null,
      "outputs": []
    },
    {
      "cell_type": "code",
      "metadata": {
        "id": "QO_I3rZirSb5",
        "colab": {
          "base_uri": "https://localhost:8080/"
        },
        "outputId": "dbb9b740-d2b2-4c62-f201-04f17669adcb"
      },
      "source": [
        "final_result=np.reshape(final_result,(len(test_Data),))\n",
        "print(final_result)"
      ],
      "execution_count": null,
      "outputs": [
        {
          "output_type": "stream",
          "name": "stdout",
          "text": [
            "[702552.4  701646.44 511180.5  ... 316924.62 420607.84 206402.  ]\n"
          ]
        }
      ]
    },
    {
      "cell_type": "code",
      "metadata": {
        "id": "Q2mxCDzyq24g"
      },
      "source": [
        "with open('submit_results.csv', 'w') as f:\n",
        "    f.write('Id,price\\n')\n",
        "    for i in range(len(final_result)):\n",
        "        f.write(str(i+1) + ',' + str(final_result[i]) + '\\n')"
      ],
      "execution_count": null,
      "outputs": []
    }
  ]
}