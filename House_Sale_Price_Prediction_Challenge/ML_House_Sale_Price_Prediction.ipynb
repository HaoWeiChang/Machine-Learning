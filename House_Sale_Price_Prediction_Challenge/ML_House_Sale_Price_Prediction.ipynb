{
  "cells": [
    {
      "cell_type": "markdown",
      "metadata": {
        "id": "7xKOUT_wlenu"
      },
      "source": [
        "# Import、載入資料"
      ]
    },
    {
      "cell_type": "code",
      "execution_count": null,
      "metadata": {
        "id": "CBlCUQP0X8cT"
      },
      "outputs": [],
      "source": [
        "import os\n",
        "import pandas as pd\n",
        "import numpy as np\n",
        "import tensorflow as tf\n",
        "import matplotlib.pyplot as plt\n",
        "import seaborn as sns\n",
        "from keras import layers\n",
        "from tensorflow import keras\n",
        "from keras.callbacks import EarlyStopping\n",
        "from keras.callbacks import ModelCheckpoint\n",
        "from sklearn.preprocessing import StandardScaler\n",
        "from sklearn.preprocessing import MaxAbsScaler\n",
        "from sklearn.preprocessing import scale\n",
        "from mlxtend.plotting import scatterplotmatrix"
      ]
    },
    {
      "cell_type": "code",
      "execution_count": null,
      "metadata": {
        "id": "rCCV-dB2ZCSp"
      },
      "outputs": [],
      "source": [
        "def load_data(housing_csv):\n",
        "  csv_path = os.path.join('/content/drive/MyDrive/MachineLearn/house-regression/',housing_csv)\n",
        "  return pd.read_csv(csv_path)"
      ]
    },
    {
      "cell_type": "code",
      "execution_count": null,
      "metadata": {
        "id": "hu6jC0P0ZEJB"
      },
      "outputs": [],
      "source": [
        "train_originData = load_data('train-v3.csv')\n",
        "valid_originData = load_data('valid-v3.csv')\n",
        "test_originData = load_data('test-v3.csv')"
      ]
    },
    {
      "cell_type": "markdown",
      "metadata": {
        "id": "4Hf0bpJdaJt3"
      },
      "source": [
        "#圖像整理(資料分析)"
      ]
    },
    {
      "cell_type": "code",
      "execution_count": null,
      "metadata": {
        "colab": {
          "base_uri": "https://localhost:8080/"
        },
        "id": "fjPZuPUIazeS",
        "outputId": "e5b0063d-8b4b-4fe7-a401-ee5c3dca4758"
      },
      "outputs": [],
      "source": [
        "train_originData.head()"
      ]
    },
    {
      "cell_type": "code",
      "execution_count": null,
      "metadata": {
        "colab": {
          "base_uri": "https://localhost:8080/"
        },
        "id": "3KkzST7aeOQ7",
        "outputId": "2107b376-a031-4d1a-b22c-d9fe24642554"
      },
      "outputs": [],
      "source": [
        "plt.figure(figsize = (8,10))\n",
        "train_originData.corr()[\"price\"].sort_values().drop(\"price\").plot(kind = \"barh\");"
      ]
    },
    {
      "cell_type": "code",
      "execution_count": null,
      "metadata": {
        "colab": {
          "base_uri": "https://localhost:8080/"
        },
        "id": "8XUWFVTia5wi",
        "outputId": "d36b9143-bf52-4770-8f27-39ac4e3400d1"
      },
      "outputs": [],
      "source": [
        "plt.hist(train_originData['price'],bins=30)\n",
        "plt.show()"
      ]
    },
    {
      "cell_type": "code",
      "execution_count": null,
      "metadata": {
        "colab": {
          "base_uri": "https://localhost:8080/"
        },
        "id": "5wGqeKaya7oC",
        "outputId": "262f553b-9639-45e8-e37f-de8402454a4d"
      },
      "outputs": [],
      "source": [
        "var = 'sqft_living'\n",
        "data = pd.concat([train_originData['price'], train_originData[var]], axis=1)\n",
        "data.plot.scatter(x=var, y='price',xlim=(0,25000), ylim=(0,8500000));"
      ]
    },
    {
      "cell_type": "code",
      "execution_count": null,
      "metadata": {
        "colab": {
          "base_uri": "https://localhost:8080/"
        },
        "id": "cVGY4kgta97K",
        "outputId": "94e0c472-f871-45b4-e71a-0492b2221dcd"
      },
      "outputs": [],
      "source": [
        "var = 'zipcode'\n",
        "data = pd.concat([train_originData['price'], train_originData[var]], axis=1)\n",
        "data.plot.scatter(x=var, y='price',xlim=(97990,98210), ylim=(0,8000000));"
      ]
    },
    {
      "cell_type": "code",
      "execution_count": null,
      "metadata": {
        "colab": {
          "base_uri": "https://localhost:8080/"
        },
        "id": "bjvQPNnFbGfC",
        "outputId": "994167a5-6de2-4baa-dc1c-456730a25d0d"
      },
      "outputs": [],
      "source": [
        "var = 'long'\n",
        "data = pd.concat([train_originData['lat'], train_originData[var]], axis=1)\n",
        "data.plot.scatter(x=var, y='lat',xlim=(-122.55,-121.28), ylim=(47.1,47.85),alpha = 0.1);"
      ]
    },
    {
      "cell_type": "code",
      "execution_count": null,
      "metadata": {
        "colab": {
          "base_uri": "https://localhost:8080/"
        },
        "id": "Jx7To7W1dsfD",
        "outputId": "3f7f840d-a462-4927-bb60-63bea0f8bcc8"
      },
      "outputs": [],
      "source": [
        "sns.boxplot(x = 'sale_month', y = 'price', data = train_originData);"
      ]
    },
    {
      "cell_type": "code",
      "execution_count": null,
      "metadata": {
        "colab": {
          "base_uri": "https://localhost:8080/"
        },
        "id": "BePEQq02db2z",
        "outputId": "f3767973-71bd-4848-aec9-f73e3a8a13ac"
      },
      "outputs": [],
      "source": [
        "train_originData.groupby('sale_month')['price'].mean().plot();"
      ]
    },
    {
      "cell_type": "code",
      "execution_count": null,
      "metadata": {
        "id": "8R93rfaPepF_"
      },
      "outputs": [],
      "source": [
        "#cols = ['sale_yr','sale_month','sale_day','bedrooms','bathrooms','sqft_living','sqft_lot','floors','waterfront','view','condition','grade','sqft_above','sqft_basement','yr_built','yr_renovated','zipcode','lat','long','sqft_living15','sqft_lot15','price']\n",
        "#scatterplotmatrix(train_originData[cols].values.astype(float), figsize=(50,50), names=cols, alpha=0.5)\n",
        "#plt.tight_layout()\n",
        "#plt.show()"
      ]
    },
    {
      "cell_type": "markdown",
      "metadata": {
        "id": "kaYssvQdawe6"
      },
      "source": [
        "# 資料預處理"
      ]
    },
    {
      "cell_type": "code",
      "execution_count": null,
      "metadata": {
        "id": "2bgvmND3vdt4"
      },
      "outputs": [],
      "source": [
        "train_Data = train_originData\n",
        "valid_Data = valid_originData\n",
        "test_Data = test_originData"
      ]
    },
    {
      "cell_type": "code",
      "execution_count": null,
      "metadata": {
        "colab": {
          "base_uri": "https://localhost:8080/",
          "height": 224
        },
        "id": "b1L8mrcNYFQA",
        "outputId": "9d615ab4-b436-46bb-f607-4546c7005cd8"
      },
      "outputs": [],
      "source": [
        "train_originData.head(5)"
      ]
    },
    {
      "cell_type": "code",
      "execution_count": null,
      "metadata": {
        "id": "V-L8Lr7bvh5Y"
      },
      "outputs": [],
      "source": [
        "train_Data.loc[train_Data['yr_renovated'] >0 ,'yr_built'] = train_Data['yr_renovated']\n",
        "valid_Data.loc[valid_Data['yr_renovated'] >0 ,'yr_built'] = valid_Data['yr_renovated']\n",
        "test_Data.loc[test_Data['yr_renovated'] >0 ,'yr_built'] = test_Data['yr_renovated']"
      ]
    },
    {
      "cell_type": "code",
      "execution_count": null,
      "metadata": {
        "id": "GeP2ulBIs49V"
      },
      "outputs": [],
      "source": [
        "train_Data = train_Data[train_Data['bedrooms'] < 11]\n",
        "train_Data = train_Data[train_Data['sqft_living'] < 12000]\n",
        "train_Data = train_Data[train_Data['sqft_lot15'] < 800000]"
      ]
    },
    {
      "cell_type": "code",
      "execution_count": null,
      "metadata": {
        "id": "IV48kwjdeqv0"
      },
      "outputs": [],
      "source": [
        "#dropData = {'id','sale_yr','sale_month','sale_day','zipcode','view','waterfront','yr_renovated'}\n",
        "dropData = {'id'}"
      ]
    },
    {
      "cell_type": "code",
      "execution_count": null,
      "metadata": {
        "id": "X1d7muSkegWr"
      },
      "outputs": [],
      "source": [
        "train_Data = train_originData.drop(dropData,axis=1)\n",
        "valid_Data = valid_originData.drop(dropData,axis=1)\n",
        "test_Data = test_originData.drop(dropData,axis=1)"
      ]
    },
    {
      "cell_type": "code",
      "execution_count": null,
      "metadata": {
        "id": "LDUtEB5Vjml1"
      },
      "outputs": [],
      "source": [
        "x_train = train_Data.drop(['price'],axis=1)\n",
        "y_train = train_Data['price'].values\n",
        "x_valid = valid_Data.drop(['price'],axis=1)\n",
        "y_valid = valid_Data['price'].values\n",
        "x_test = test_Data"
      ]
    },
    {
      "cell_type": "code",
      "execution_count": null,
      "metadata": {
        "colab": {
          "base_uri": "https://localhost:8080/"
        },
        "id": "VJpdLeBGysTy",
        "outputId": "6a6ce61b-614b-4c5e-fa12-9c4947ff8152"
      },
      "outputs": [],
      "source": [
        "train_Data.corr()[\"price\"].sort_values(ascending=False)"
      ]
    },
    {
      "cell_type": "code",
      "execution_count": null,
      "metadata": {
        "id": "BDxuEdEVtmw5"
      },
      "outputs": [],
      "source": [
        "#mean = x_train.mean()\n",
        "#std = x_train.std()\n",
        "#X_train = (x_train-mean)/std\n",
        "#X_valid = (x_valid-mean)/std\n",
        "#X_test = (x_test-mean)/std"
      ]
    },
    {
      "cell_type": "code",
      "execution_count": null,
      "metadata": {
        "id": "MrGkyfvJlDAe"
      },
      "outputs": [],
      "source": [
        "scaler = StandardScaler().fit(x_train)\n",
        "X_train = scaler.transform(x_train)\n",
        "X_valid = scaler.transform(x_valid)\n",
        "X_test = scaler.transform(x_test)"
      ]
    },
    {
      "cell_type": "markdown",
      "metadata": {
        "id": "YACfrviKm28O"
      },
      "source": [
        "# 建立模型\n",
        "\n"
      ]
    },
    {
      "cell_type": "code",
      "execution_count": null,
      "metadata": {
        "id": "A73-WqXWxb2e"
      },
      "outputs": [],
      "source": [
        "filepath=\"./bestModel.h5\"\n",
        "checkpoint = ModelCheckpoint(filepath, monitor='val_loss', verbose=1, save_best_only=True, mode='min', save_weights_only=False)\n",
        "es = EarlyStopping(monitor='val_loss', patience=30, verbose=0, mode='min')"
      ]
    },
    {
      "cell_type": "code",
      "execution_count": null,
      "metadata": {
        "colab": {
          "base_uri": "https://localhost:8080/"
        },
        "id": "KrIoHVaeSZiT",
        "outputId": "4a83eb1d-8409-4f96-c3de-b44460a02951"
      },
      "outputs": [],
      "source": [
        "#initialRamdom = keras.initializers.random_normal(mean=0.0,stddev=0.05,seed=52)\n",
        "model = keras.Sequential()\n",
        "model.add(layers.Dense(64,kernel_initializer='normal',activation='relu',input_shape=(X_train.shape[1],)))\n",
        "model.add(layers.Dense(48,kernel_initializer='normal',activation='relu'))\n",
        "model.add(layers.Dense(32,kernel_initializer='normal',activation='relu'))\n",
        "model.add(layers.Dense(1,kernel_initializer='normal'))\n",
        "model.summary()"
      ]
    },
    {
      "cell_type": "code",
      "execution_count": null,
      "metadata": {
        "id": "bR-aoj5Nn1kf"
      },
      "outputs": [],
      "source": [
        "model.compile(optimizer=keras.optimizers.Adam(0.01978),loss='MAE')"
      ]
    },
    {
      "cell_type": "code",
      "execution_count": null,
      "metadata": {
        "colab": {
          "base_uri": "https://localhost:8080/"
        },
        "id": "z1IdUVYon_w_",
        "outputId": "97cee0e3-d6a4-42cf-9cce-4da6b65e9d81"
      },
      "outputs": [],
      "source": [
        "history = model.fit(X_train,y_train,validation_data=(X_valid,y_valid),batch_size=64,epochs=1000,callbacks=[es,checkpoint],verbose=0)"
      ]
    },
    {
      "cell_type": "code",
      "execution_count": null,
      "metadata": {
        "colab": {
          "base_uri": "https://localhost:8080/"
        },
        "id": "YGdmICzzsKmb",
        "outputId": "b12948f0-71a2-468d-b062-a25f8ea6020b"
      },
      "outputs": [
        {
          "data": {
            "text/plain": [
              "dict_keys(['loss', 'val_loss'])"
            ]
          },
          "execution_count": 37,
          "metadata": {},
          "output_type": "execute_result"
        }
      ],
      "source": [
        "history.history.keys()"
      ]
    },
    {
      "cell_type": "code",
      "execution_count": null,
      "metadata": {
        "colab": {
          "base_uri": "https://localhost:8080/",
          "height": 296
        },
        "id": "MLf8NI1-rYwQ",
        "outputId": "b7bd16fc-d502-4e29-86f0-b814f7b5d06d"
      },
      "outputs": [],
      "source": [
        "plt.plot(history.history['loss'],label='train')\n",
        "plt.plot(history.history['val_loss'],label='validation')\n",
        "plt.ylabel('loss')\n",
        "plt.xlabel('epochs')\n",
        "plt.legend(loc='upper right')"
      ]
    },
    {
      "cell_type": "code",
      "execution_count": null,
      "metadata": {
        "id": "8TLDZKaayxVP"
      },
      "outputs": [],
      "source": [
        "from keras.models import load_model\n",
        "filepath = \"./bestModel.h5\"\n",
        "model = load_model(filepath)"
      ]
    },
    {
      "cell_type": "code",
      "execution_count": null,
      "metadata": {
        "id": "PdHWeappqUrI"
      },
      "outputs": [],
      "source": [
        "final_result=model.predict(X_test)"
      ]
    },
    {
      "cell_type": "code",
      "execution_count": null,
      "metadata": {
        "colab": {
          "base_uri": "https://localhost:8080/"
        },
        "id": "QO_I3rZirSb5",
        "outputId": "dbb9b740-d2b2-4c62-f201-04f17669adcb"
      },
      "outputs": [],
      "source": [
        "final_result=np.reshape(final_result,(len(test_Data),))\n",
        "print(final_result)"
      ]
    },
    {
      "cell_type": "code",
      "execution_count": null,
      "metadata": {
        "id": "Q2mxCDzyq24g"
      },
      "outputs": [],
      "source": [
        "with open('submit_results.csv', 'w') as f:\n",
        "    f.write('Id,price\\n')\n",
        "    for i in range(len(final_result)):\n",
        "        f.write(str(i+1) + ',' + str(final_result[i]) + '\\n')"
      ]
    }
  ],
  "metadata": {
    "accelerator": "GPU",
    "colab": {
      "collapsed_sections": [
        "4Hf0bpJdaJt3"
      ],
      "name": "ML_House-Sale-Price-Prediction(2).ipynb",
      "provenance": []
    },
    "kernelspec": {
      "display_name": "Python 3",
      "name": "python3"
    },
    "language_info": {
      "name": "python"
    }
  },
  "nbformat": 4,
  "nbformat_minor": 0
}
